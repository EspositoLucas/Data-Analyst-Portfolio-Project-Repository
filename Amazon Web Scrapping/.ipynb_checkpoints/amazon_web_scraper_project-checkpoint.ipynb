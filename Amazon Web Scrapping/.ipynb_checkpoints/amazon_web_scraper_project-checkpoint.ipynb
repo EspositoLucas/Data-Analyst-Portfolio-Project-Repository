{
 "cells": [
  {
   "cell_type": "code",
   "execution_count": 3,
   "id": "0425a2e7-63e5-4b3a-8aef-877a5633cd0a",
   "metadata": {},
   "outputs": [],
   "source": [
    "# import libraries \n",
    "\n",
    "from bs4 import BeautifulSoup\n",
    "import requests\n",
    "import time\n",
    "import datetime\n",
    "\n",
    "import smtplib"
   ]
  },
  {
   "cell_type": "code",
   "execution_count": 27,
   "id": "75f2b578-e773-4009-a95d-a88ac0bd1370",
   "metadata": {},
   "outputs": [
    {
     "name": "stdout",
     "output_type": "stream",
     "text": [
      "\n",
      "                   Data Analyst Gift - Data Analysis Shirt - Data Scientist Present - Funny Data Science - Y'all Need Data - Unisex Tee\n",
      "                  \n",
      "$22.50\n"
     ]
    }
   ],
   "source": [
    "# Connect to Website and pull in data\n",
    "URL = 'https://www.amazon.com/Data-Analyst-Gift-Analysis-Scientist/dp/B093DPT789/ref=sr_1_5?crid=15D9IGBOTK23K&keywords=data+analyst+gift&qid=1675031728&sprefix=data+analyst%2Caps%2C230&sr=8-5'\n",
    "\n",
    "headers = { \"User-Agent\": \"Mozilla/5.0 (Windows NT 10.0; Win64; x64) AppleWebKit/537.36 (KHTML, like Gecko) Chrome/109.0.0.0 Safari/537.36\",\"Accept-Encoding\":\"gzip, deflate\", \"Accept\":\"text/html,application/xhtml+xml,application/xml;q=0.9,*/*;q=0.8\", \"DNT\":\"1\",\"Connection\":\"close\", \"Upgrade-Insecure-Requests\":\"1\"}\n",
    "\n",
    "\n",
    "page = requests.get(URL, headers=headers,cookies={'__hs_opt_out': 'no'})\n",
    "\n",
    "\n",
    "soup1 = BeautifulSoup(page.content, 'html.parser')\n",
    "\n",
    "\n",
    "soup2 = BeautifulSoup(soup1.prettify(), 'html.parser')\n",
    "\n",
    "\n",
    "title = soup2.find(id='productTitle').get_text()\n",
    "\n",
    "price = soup2.find('span', {'class':\"a-offscreen\"}).text.strip()\n",
    "\n",
    "print(title)\n",
    "print(price)\n",
    "\n",
    "\n",
    "\n"
   ]
  },
  {
   "cell_type": "code",
   "execution_count": 28,
   "id": "dabd7843-190f-4813-ab6a-9f4981d116f0",
   "metadata": {},
   "outputs": [
    {
     "name": "stdout",
     "output_type": "stream",
     "text": [
      "Data Analyst Gift - Data Analysis Shirt - Data Scientist Present - Funny Data Science - Y'all Need Data - Unisex Tee\n",
      "22.50\n"
     ]
    }
   ],
   "source": [
    "# Clean up the data a little bit\n",
    "\n",
    "title = title.strip()\n",
    "price = price.strip()[1:]\n",
    "\n",
    "print(title)\n",
    "print(price)"
   ]
  },
  {
   "cell_type": "code",
   "execution_count": 21,
   "id": "983fc2f3-9531-4818-8008-5d45eedfbc4b",
   "metadata": {},
   "outputs": [
    {
     "name": "stdout",
     "output_type": "stream",
     "text": [
      "2023-01-29\n"
     ]
    }
   ],
   "source": [
    "# Create a Timestamp for your output to track when data was collected\n",
    "\n",
    "import datetime\n",
    "\n",
    "today = datetime.date.today()\n",
    "\n",
    "print(today)"
   ]
  },
  {
   "cell_type": "code",
   "execution_count": 30,
   "id": "b887791d-6692-4079-94bd-4c596db60eb9",
   "metadata": {},
   "outputs": [],
   "source": [
    "# Create CSV and write headers and data into the file\n",
    "\n",
    "import csv \n",
    "\n",
    "header = ['Title', 'Price', 'Date']\n",
    "data = [title, price, today]\n",
    "\n",
    "with open('AmazonWebScraperDataset_DataShirt.csv', 'w', newline='', encoding='UTF8') as f:\n",
    "    writer = csv.writer(f)\n",
    "    writer.writerow(header)\n",
    "    writer.writerow(data)\n"
   ]
  },
  {
   "cell_type": "code",
   "execution_count": 40,
   "id": "68904cdc-29c7-4bdb-9aad-8130b2cf7ca6",
   "metadata": {},
   "outputs": [
    {
     "name": "stdout",
     "output_type": "stream",
     "text": [
      "                                               Title  Price        Date\n",
      "0  Data Analyst Gift - Data Analysis Shirt - Data...   22.5  2023-01-29\n",
      "1  Data Analyst Gift - Data Analysis Shirt - Data...   22.5  2023-01-29\n",
      "2  Data Analyst Gift - Data Analysis Shirt - Data...   22.5  2023-01-29\n",
      "3  Data Analyst Gift - Data Analysis Shirt - Data...   22.5  2023-01-29\n"
     ]
    }
   ],
   "source": [
    "import pandas as pd\n",
    "\n",
    "df = pd.read_csv(r'C:\\Users\\esposito\\workspace\\Datos\\Jupyter\\Amazon Web Scrapping\\AmazonWebScraperDataset_DataShirt.csv')\n",
    "\n",
    "print(df)"
   ]
  },
  {
   "cell_type": "code",
   "execution_count": 39,
   "id": "45d24e7d-9248-4fe2-a1e2-ccd194f8e9bd",
   "metadata": {},
   "outputs": [],
   "source": [
    "#Now we are appending data to the csv\n",
    "\n",
    "with open('AmazonWebScraperDataset_DataShirt.csv', 'a+', newline='', encoding='UTF8') as f:\n",
    "    writer = csv.writer(f)\n",
    "    writer.writerow(data)"
   ]
  },
  {
   "cell_type": "code",
   "execution_count": 35,
   "id": "81d15d74-d457-4ad4-9df7-15d1dd92666a",
   "metadata": {},
   "outputs": [],
   "source": [
    "#Combine all of the above code into one function\n",
    "\n",
    "\n",
    "def check_price():\n",
    "    \n",
    "    URL = 'https://www.amazon.com/Data-Analyst-Gift-Analysis-Scientist/dp/B093DPT789/ref=sr_1_5?crid=15D9IGBOTK23K&keywords=data+analyst+gift&qid=1675031728&sprefix=data+analyst%2Caps%2C230&sr=8-5'\n",
    "\n",
    "    headers = { \"User-Agent\": \"Mozilla/5.0 (Windows NT 10.0; Win64; x64) AppleWebKit/537.36 (KHTML, like Gecko) Chrome/109.0.0.0 Safari/537.36\",\"Accept-Encoding\":\"gzip, deflate\", \"Accept\":\"text/html,application/xhtml+xml,application/xml;q=0.9,*/*;q=0.8\", \"DNT\":\"1\",\"Connection\":\"close\", \"Upgrade-Insecure-Requests\":\"1\"}\n",
    "\n",
    "\n",
    "    page = requests.get(URL, headers=headers,cookies={'__hs_opt_out': 'no'})\n",
    "\n",
    "\n",
    "    soup1 = BeautifulSoup(page.content, 'html.parser')\n",
    "\n",
    "\n",
    "    soup2 = BeautifulSoup(soup1.prettify(), 'html.parser')\n",
    "\n",
    "\n",
    "    title = soup2.find(id='productTitle').get_text()\n",
    "\n",
    "    price = soup2.find('span', {'class':\"a-offscreen\"}).text.strip()\n",
    "    \n",
    "    price = price.strip()[1:]\n",
    "    title = title.strip()\n",
    "\n",
    "    import datetime\n",
    "\n",
    "    today = datetime.date.today()\n",
    "    \n",
    "    import csv \n",
    "\n",
    "    header = ['Title', 'Price', 'Date']\n",
    "    data = [title, price, today]\n",
    "\n",
    "    with open('AmazonWebScraperDataset_DataShirt.csv', 'a+', newline='', encoding='UTF8') as f:\n",
    "        writer = csv.writer(f)\n",
    "        writer.writerow(data)\n",
    "        \n",
    "    if (price < 15):\n",
    "        send_mail()"
   ]
  },
  {
   "cell_type": "code",
   "execution_count": 41,
   "id": "8340ad8c-0975-420a-8521-1812351335fc",
   "metadata": {},
   "outputs": [
    {
     "ename": "KeyboardInterrupt",
     "evalue": "",
     "output_type": "error",
     "traceback": [
      "\u001b[1;31m---------------------------------------------------------------------------\u001b[0m",
      "\u001b[1;31mKeyboardInterrupt\u001b[0m                         Traceback (most recent call last)",
      "\u001b[1;32m~\\AppData\\Local\\Temp\\ipykernel_26452\\3041515148.py\u001b[0m in \u001b[0;36m<module>\u001b[1;34m\u001b[0m\n\u001b[0;32m      3\u001b[0m \u001b[1;32mwhile\u001b[0m\u001b[1;33m(\u001b[0m\u001b[1;32mTrue\u001b[0m\u001b[1;33m)\u001b[0m\u001b[1;33m:\u001b[0m\u001b[1;33m\u001b[0m\u001b[1;33m\u001b[0m\u001b[0m\n\u001b[0;32m      4\u001b[0m     \u001b[0mcheck_price\u001b[0m\u001b[1;33m(\u001b[0m\u001b[1;33m)\u001b[0m\u001b[1;33m\u001b[0m\u001b[1;33m\u001b[0m\u001b[0m\n\u001b[1;32m----> 5\u001b[1;33m     \u001b[0mtime\u001b[0m\u001b[1;33m.\u001b[0m\u001b[0msleep\u001b[0m\u001b[1;33m(\u001b[0m\u001b[1;36m5\u001b[0m\u001b[1;33m)\u001b[0m\u001b[1;33m\u001b[0m\u001b[1;33m\u001b[0m\u001b[0m\n\u001b[0m",
      "\u001b[1;31mKeyboardInterrupt\u001b[0m: "
     ]
    }
   ],
   "source": [
    "# Runs check_price after a set time and inputs data into your CSV\n",
    "\n",
    "while(True):\n",
    "    check_price()\n",
    "    time.sleep(86400)"
   ]
  },
  {
   "cell_type": "code",
   "execution_count": 42,
   "id": "e685815c-29e1-44a9-b7c2-71c05c529fe5",
   "metadata": {},
   "outputs": [
    {
     "name": "stdout",
     "output_type": "stream",
     "text": [
      "                                               Title  Price        Date\n",
      "0  Data Analyst Gift - Data Analysis Shirt - Data...   22.5  2023-01-29\n",
      "1  Data Analyst Gift - Data Analysis Shirt - Data...   22.5  2023-01-29\n",
      "2  Data Analyst Gift - Data Analysis Shirt - Data...   22.5  2023-01-29\n",
      "3  Data Analyst Gift - Data Analysis Shirt - Data...   22.5  2023-01-29\n",
      "4  Data Analyst Gift - Data Analysis Shirt - Data...   22.5  2023-01-29\n",
      "5  Data Analyst Gift - Data Analysis Shirt - Data...   22.5  2023-01-29\n",
      "6  Data Analyst Gift - Data Analysis Shirt - Data...   22.5  2023-01-29\n"
     ]
    }
   ],
   "source": [
    "import pandas as pd\n",
    "\n",
    "df = pd.read_csv(r'C:\\Users\\esposito\\workspace\\Datos\\Jupyter\\Amazon Web Scrapping\\AmazonWebScraperDataset_DataShirt.csv')\n",
    "\n",
    "print(df)"
   ]
  },
  {
   "cell_type": "code",
   "execution_count": null,
   "id": "b764810e-1bac-4fbb-b180-120008a76b35",
   "metadata": {},
   "outputs": [],
   "source": [
    "# This send an email when a price hits below a certain level \n",
    "\n",
    "def send_mail():\n",
    "    server = smtplib.SMTP_SSL('smtp.gmail.com',465)\n",
    "    server.ehlo()\n",
    "    #server.starttls()\n",
    "    server.ehlo()\n",
    "    server.login('espositoluca2002s@gmail.com','xxxxxxxxxxxxxx')\n",
    "    \n",
    "    subject = \"The Shirt you want is below $15! Now is your chance to buy!\"\n",
    "    body = \"Lucas, This is the moment we have been waiting for. Now is your chance to pick up the shirt of your dreams. Don't mess it up! Link here: https://www.amazon.com/Funny-Data-Systems-Business-Analyst/dp/B07FNW9FGJ/ref=sr_1_3?dchild=1&keywords=data+analyst+tshirt&qid=1626655184&sr=8-3\"\n",
    "   \n",
    "    msg = f\"Subject: {subject}\\n\\n{body}\"\n",
    "    \n",
    "    server.sendmail(\n",
    "        'espositolucas2002@gmail.com',\n",
    "        msg\n",
    "     \n",
    "    )"
   ]
  }
 ],
 "metadata": {
  "kernelspec": {
   "display_name": "Python 3 (ipykernel)",
   "language": "python",
   "name": "python3"
  },
  "language_info": {
   "codemirror_mode": {
    "name": "ipython",
    "version": 3
   },
   "file_extension": ".py",
   "mimetype": "text/x-python",
   "name": "python",
   "nbconvert_exporter": "python",
   "pygments_lexer": "ipython3",
   "version": "3.9.13"
  }
 },
 "nbformat": 4,
 "nbformat_minor": 5
}
